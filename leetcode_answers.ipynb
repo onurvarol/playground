{
 "cells": [
  {
   "cell_type": "markdown",
   "metadata": {},
   "source": [
    "## [Two Sum](https://leetcode.com/problems/two-sum/)\n",
    "\n",
    "Given an array of integers, return indices of the two numbers such that they add up to a specific target.\n",
    "You may assume that each input would have exactly one solution, and you may not use the same element twice.\n",
    "\n",
    "__Example__\n",
    "Given nums = [2, 7, 11, 15], target = 9,\n",
    "Because nums[0] + nums[1] = 2 + 7 = 9,\n",
    "return [0, 1]"
   ]
  },
  {
   "cell_type": "code",
   "execution_count": 2,
   "metadata": {
    "collapsed": false
   },
   "outputs": [
    {
     "name": "stdout",
     "output_type": "stream",
     "text": [
      "(3, 1)\n"
     ]
    }
   ],
   "source": [
    "def two_sum(arr, target):\n",
    "    temp = dict()\n",
    "    for i,x in enumerate(arr):\n",
    "        if target-x in temp:\n",
    "            return (i, temp[target-x])\n",
    "        else:\n",
    "            temp[x] = i\n",
    "    return None\n",
    "\n",
    "nums = [2, 7, 11, 15]\n",
    "target = 22\n",
    "print two_sum(nums, target)"
   ]
  },
  {
   "cell_type": "markdown",
   "metadata": {},
   "source": [
    "## [Add two sums](https://leetcode.com/problems/add-two-numbers/)\n",
    "You are given two non-empty linked lists representing two non-negative integers. The digits are stored in reverse order and each of their nodes contain a single digit. Add the two numbers and return it as a linked list.\n",
    "\n",
    "You may assume the two numbers do not contain any leading zero, except the number 0 itself.\n",
    "\n",
    "Input: (2 -> 4 -> 3) + (5 -> 6 -> 4)\n",
    "Output: 7 -> 0 -> 8"
   ]
  },
  {
   "cell_type": "code",
   "execution_count": 23,
   "metadata": {
    "collapsed": false
   },
   "outputs": [
    {
     "name": "stdout",
     "output_type": "stream",
     "text": [
      "2->4->7\n",
      "5->6->4->5\n",
      "7->0->2->6\n"
     ]
    }
   ],
   "source": [
    "class ListNode(object):\n",
    "    def __init__(self, value, nextNode=None):\n",
    "        self.value = value\n",
    "        self.next = nextNode\n",
    "        \n",
    "    def add(self, value):\n",
    "        node = self\n",
    "        nextn = self.next\n",
    "        while nextn <> None:\n",
    "            node = nextn\n",
    "            nextn = node.next\n",
    "        node.next = ListNode(value)\n",
    "        \n",
    "    def __str__(self):\n",
    "        return '{}{}'.format(self.value, '->{}'.format(self.next) if self.next <> None else '')\n",
    "    \n",
    "xlist = ListNode(2, ListNode(4, ListNode(7)))\n",
    "ylist = ListNode(5, ListNode(6, ListNode(4, ListNode(5))))\n",
    "print xlist\n",
    "print ylist\n",
    "\n",
    "def two_list_sum(x,y):\n",
    "    sumList = None\n",
    "    carry = 0\n",
    "    while x <> None or y <> None:\n",
    "        sumv = carry\n",
    "        if x <> None:\n",
    "            sumv += x.value\n",
    "            x = x.next\n",
    "        if y <> None:\n",
    "            sumv += y.value\n",
    "            y = y.next\n",
    "        carry = int(sumv / 10.)    \n",
    "        sumv = sumv % 10\n",
    "        \n",
    "        if sumList == None:\n",
    "            sumList = ListNode(sumv)\n",
    "        else:\n",
    "            sumList.add(sumv)\n",
    "    return sumList\n",
    "\n",
    "print two_list_sum(xlist, ylist)"
   ]
  },
  {
   "cell_type": "code",
   "execution_count": 27,
   "metadata": {
    "collapsed": false
   },
   "outputs": [
    {
     "name": "stdout",
     "output_type": "stream",
     "text": [
      "2->8->3\n",
      "5->7->1->5\n",
      "9->6->1->6\n",
      "6->2->7->1->1\n"
     ]
    }
   ],
   "source": [
    "xlist = ListNode(2, ListNode(8, ListNode(3)))\n",
    "ylist = ListNode(5, ListNode(7, ListNode(1, ListNode(5))))\n",
    "zlist = ListNode(9, ListNode(6, ListNode(1, ListNode(6))))\n",
    "print xlist\n",
    "print ylist\n",
    "print zlist\n",
    "\n",
    "def nlist_sum(llist):\n",
    "    sumList = None\n",
    "    carry = 0\n",
    "    \n",
    "    toContinue = True\n",
    "    while toContinue:\n",
    "        toContinue = False\n",
    "        sumv = carry\n",
    "        for i,l in enumerate(llist):\n",
    "            if l <> None:\n",
    "                sumv += l.value\n",
    "                llist[i] = l.next\n",
    "                toContinue = True\n",
    "        carry = int(sumv / 10.)    \n",
    "        sumv = sumv % 10\n",
    "        \n",
    "        if sumList == None:\n",
    "            sumList = ListNode(sumv)\n",
    "        else:\n",
    "            sumList.add(sumv)\n",
    "    return sumList\n",
    "\n",
    "print nlist_sum([xlist, ylist, zlist])"
   ]
  },
  {
   "cell_type": "markdown",
   "metadata": {},
   "source": [
    "## [Search for a range](https://leetcode.com/problems/search-for-a-range/)\n",
    "\n",
    "Given an array of integers sorted in ascending order, find the starting and ending position of a given target value.\n",
    "\n",
    "Your algorithm's runtime complexity must be in the order of O(log n).\n",
    "\n",
    "If the target is not found in the array, return [-1, -1].\n",
    "\n",
    "For example,\n",
    "Given [5, 7, 7, 8, 8, 10] and target value 8,\n",
    "return [3, 4]."
   ]
  },
  {
   "cell_type": "code",
   "execution_count": null,
   "metadata": {
    "collapsed": true
   },
   "outputs": [],
   "source": [
    "def searchRangeLogn(nums, target):\n",
    "    \"\"\"\n",
    "    :type nums: List[int]\n",
    "    :type target: int\n",
    "    :rtype: List[int]\n",
    "    \"\"\"\n",
    "    \n",
    "    minI, maxI = -1, -1\n",
    "    \n",
    "    return _searchRangeLimits(nums, target,minr, maxr)\n",
    "    \n",
    "    #return (minI, maxI)\n",
    "\n",
    "def _searchRangeLimits(nums, target, minr, maxr):    \n",
    "    if nums[minr] == target and nums[maxr] == target:\n",
    "        return (minr, maxr)\n",
    "    \n",
    "    midp = minr + maxr / 2\n",
    "    if nums[midp] > target:\n",
    "        return _searchRangeLimits(nums, target, midp+1, maxr)\n",
    "    else:\n",
    "        return _searchRangeLimits(nums, target, minr, midp)\n",
    "\n",
    "def searchRangeLinear(nums, target):\n",
    "    \"\"\"\n",
    "    :type nums: List[int]\n",
    "    :type target: int\n",
    "    :rtype: List[int]\n",
    "    \"\"\"\n",
    "    \n",
    "    minI, maxI = -1, -1\n",
    "    count = 0\n",
    "    while count < len(nums):\n",
    "        if (minI == -1) and nums[count] == target:\n",
    "            minI = count\n",
    "        if (maxI == -1) and nums[len(nums)-count-1] == target:\n",
    "            maxI = len(nums)-count-1\n",
    "        count += 1\n",
    "    return (minI, maxI)"
   ]
  },
  {
   "cell_type": "markdown",
   "metadata": {},
   "source": [
    "## [Longest Substring Without Repeating Characters](https://leetcode.com/problems/longest-substring-without-repeating-characters/)\n",
    "\n",
    "Given a string, find the length of the longest substring without repeating characters.\n",
    "\n",
    "Examples:\n",
    "\n",
    "Given \"abcabcbb\", the answer is \"abc\", which the length is 3.\n",
    "\n",
    "Given \"bbbbb\", the answer is \"b\", with the length of 1.\n",
    "\n",
    "Given \"pwwkew\", the answer is \"wke\", with the length of 3. Note that the answer must be a substring, \"pwke\" is a subsequence and not a substring."
   ]
  },
  {
   "cell_type": "code",
   "execution_count": 6,
   "metadata": {
    "collapsed": false
   },
   "outputs": [
    {
     "name": "stdout",
     "output_type": "stream",
     "text": [
      "('abc', 3)\n",
      "('abcd', 4)\n",
      "('b', 1)\n",
      "('wke', 3)\n"
     ]
    }
   ],
   "source": [
    "def longest_substring_length(xarr):\n",
    "    uchar = set()\n",
    "    lsstr = ''\n",
    "    tstr = ''\n",
    "    for i,c in enumerate(xarr):\n",
    "        if c not in uchar:\n",
    "            uchar |= {c}\n",
    "            tstr += c\n",
    "            if len(tstr) > len(lsstr):\n",
    "                lsstr = str(tstr)\n",
    "        else:\n",
    "            idx = tstr.index(c)\n",
    "            tstr = tstr[idx+1:] + c\n",
    "            uchar = set(tstr)\n",
    "            \n",
    "    return lsstr, len(lsstr)\n",
    "\n",
    "print longest_substring_length('abcabcbb') # abc, 3\n",
    "print longest_substring_length('bcabcdbcbb') # abcd, 4\n",
    "print longest_substring_length('bbbbb') # b, 1\n",
    "print longest_substring_length('pwwkew') # wke,3"
   ]
  },
  {
   "cell_type": "markdown",
   "metadata": {},
   "source": [
    "## [Median of Two Sorted Arrays](https://leetcode.com/problems/median-of-two-sorted-arrays/)\n",
    "\n",
    "There are two sorted arrays nums1 and nums2 of size m and n respectively.\n",
    "\n",
    "Find the median of the two sorted arrays. The overall run time complexity should be O(log (m+n)).\n",
    "\n",
    "__Example 1__:\n",
    "\n",
    "nums1 = [1, 3]\n",
    "\n",
    "nums2 = [2]\n",
    "\n",
    "The median is 2.0\n",
    "\n",
    "__Example 2__:\n",
    "\n",
    "nums1 = [1, 2]\n",
    "\n",
    "nums2 = [3, 4]\n",
    "\n",
    "The median is (2 + 3)/2 = 2.5"
   ]
  },
  {
   "cell_type": "code",
   "execution_count": null,
   "metadata": {
    "collapsed": true
   },
   "outputs": [],
   "source": []
  },
  {
   "cell_type": "markdown",
   "metadata": {},
   "source": [
    "## [Longest Palindromic Substring](https://leetcode.com/problems/longest-palindromic-substring/)\n",
    "\n",
    "Given a string s, find the longest palindromic substring in s. You may assume that the maximum length of s is 1000.\n",
    "\n",
    "__Example__:\n",
    "\n",
    "Input: \"babad\"\n",
    "\n",
    "Output: \"bab\"\n",
    "\n",
    "Note: \"aba\" is also a valid answer.\n",
    "\n",
    "__Example__:\n",
    "\n",
    "Input: \"cbbd\"\n",
    "\n",
    "Output: \"bb\""
   ]
  },
  {
   "cell_type": "code",
   "execution_count": 8,
   "metadata": {
    "collapsed": false
   },
   "outputs": [
    {
     "name": "stdout",
     "output_type": "stream",
     "text": [
      "bab\n",
      "bb\n",
      "ccbabcc\n"
     ]
    }
   ],
   "source": [
    "def longest_palindromic_substring(arr):\n",
    "    lpstr = ''\n",
    "    \n",
    "    for i in range(1,len(arr)):\n",
    "        c = 1\n",
    "        while i-c>=0:\n",
    "            if arr[i-c] == arr[i] and len(lpstr) < c+1:\n",
    "                lpstr = arr[i-c:i+1] \n",
    "                c += 1\n",
    "            else:\n",
    "                break\n",
    "        c = 1\n",
    "        while i-c>=0 and i+c < len(arr):\n",
    "            if arr[i-c] == arr[i+c] and len(lpstr) < 2*c+1:\n",
    "                lpstr = arr[i-c:i+c+1] \n",
    "                c += 1\n",
    "            else:\n",
    "                break\n",
    "    return lpstr\n",
    "\n",
    "print longest_palindromic_substring('babad') # bab, aba\n",
    "print longest_palindromic_substring('cbbd') # bb\n",
    "print longest_palindromic_substring('abccbabccda') # ccbabcc"
   ]
  },
  {
   "cell_type": "markdown",
   "metadata": {
    "collapsed": true
   },
   "source": [
    "##[Implement strStr()](https://leetcode.com/problems/implement-strstr/)\n",
    "\n",
    "Returns the index of the first occurrence of needle in haystack, or -1 if needle is not part of haystack."
   ]
  },
  {
   "cell_type": "code",
   "execution_count": 6,
   "metadata": {
    "collapsed": false
   },
   "outputs": [
    {
     "name": "stdout",
     "output_type": "stream",
     "text": [
      "4\n"
     ]
    }
   ],
   "source": [
    "def strStr(haystack, needle):\n",
    "    if len(needle) > len(haystack):\n",
    "        return -1\n",
    "    \n",
    "    for i in range(len(haystack)-len(needle)+1):\n",
    "        found = True\n",
    "        for j in range(len(needle)):\n",
    "            if needle[j] <> haystack[i+j]:\n",
    "                found = False\n",
    "                break\n",
    "        if found:\n",
    "            return i\n",
    "    return -1\n",
    "        \n",
    "        \n",
    "print strStr('asdfasdafs', 'asda')"
   ]
  },
  {
   "cell_type": "code",
   "execution_count": null,
   "metadata": {
    "collapsed": true
   },
   "outputs": [],
   "source": []
  },
  {
   "cell_type": "markdown",
   "metadata": {},
   "source": [
    "## [Maximum Depth of Binary Tree](https://leetcode.com/problems/maximum-depth-of-binary-tree/)\n",
    "Given a binary tree, find its maximum depth.\n",
    "The maximum depth is the number of nodes along the longest path from the root node down to the farthest leaf node."
   ]
  },
  {
   "cell_type": "code",
   "execution_count": null,
   "metadata": {
    "collapsed": true
   },
   "outputs": [],
   "source": [
    "class TreeNode(object):\n",
    "    def __init__(self, x):\n",
    "        self.val = x\n",
    "        self.left = None\n",
    "        self.right = None\n",
    "        \n",
    "\n",
    "def maxDepth(root):\n",
    "    if root == None:\n",
    "        return 0\n",
    "    else:\n",
    "        return max(maxDepth(root.left),maxDepth(root.right)) + 1"
   ]
  },
  {
   "cell_type": "markdown",
   "metadata": {},
   "source": [
    "##[Same Tree](https://leetcode.com/problems/same-tree/)\n",
    "\n",
    "Given two binary trees, write a function to check if they are equal or not.\n",
    "\n",
    "Two binary trees are considered equal if they are structurally identical and the nodes have the same value."
   ]
  },
  {
   "cell_type": "code",
   "execution_count": 7,
   "metadata": {
    "collapsed": true
   },
   "outputs": [],
   "source": [
    "class TreeNode(object):\n",
    "    def __init__(self, x):\n",
    "        self.val = x\n",
    "        self.left = None\n",
    "        self.right = None\n",
    "        \n",
    "def isSameTree(p, q):\n",
    "    \"\"\"\n",
    "    :type p: TreeNode\n",
    "    :type q: TreeNode\n",
    "    :rtype: bool\n",
    "    \"\"\"\n",
    "    \n",
    "    if p == None and q == None:\n",
    "        return True\n",
    "        \n",
    "    if (p <> None and q == None) or (p == None and q <> None):\n",
    "        return False\n",
    "    \n",
    "    if p.val <> q.val:\n",
    "        return False\n",
    "    else:\n",
    "        return isSameTree(p.left, q.left) & isSameTree(p.right, q.right)"
   ]
  },
  {
   "cell_type": "markdown",
   "metadata": {},
   "source": [
    "##[Path Sum](https://leetcode.com/problems/path-sum)\n",
    "\n",
    "Given a binary tree and a sum, determine if the tree has a root-to-leaf path such that adding up all the values along the path equals the given sum.\n",
    "\n",
    "For example:\n",
    "Given the below binary tree and sum = 22,\n",
    "\n",
    "\n",
    "              5\n",
    "             / \\\n",
    "            4   8\n",
    "           /   / \\\n",
    "          11  13  4\n",
    "         /  \\      \\\n",
    "        7    2      1\n",
    "\n",
    "\n",
    "return true, as there exist a root-to-leaf path 5->4->11->2 which sum is 22."
   ]
  },
  {
   "cell_type": "code",
   "execution_count": 8,
   "metadata": {
    "collapsed": true
   },
   "outputs": [],
   "source": [
    "class TreeNode(object):\n",
    "    def __init__(self, x):\n",
    "        self.val = x\n",
    "        self.left = None\n",
    "        self.right = None\n",
    "\n",
    "def hasPathSum(root, sum):\n",
    "    \"\"\"\n",
    "    :type root: TreeNode\n",
    "    :type sum: int\n",
    "    :rtype: bool\n",
    "    \"\"\"\n",
    "    if root == None:\n",
    "        return False\n",
    "    else:\n",
    "        if root.val == sum and root.left == None and root.right == None:\n",
    "            return True\n",
    "        else:\n",
    "            return hasPathSum(root.left, sum-root.val) or hasPathSum(root.right, sum-root.val)\n",
    "    "
   ]
  },
  {
   "cell_type": "markdown",
   "metadata": {},
   "source": [
    "##[Binary Tree Paths](https://leetcode.com/problems/binary-tree-paths/)\n",
    "\n",
    "Given a binary tree, return all root-to-leaf paths.\n",
    "\n",
    "For example, given the following binary tree:\n",
    "\n",
    "   1\n",
    " /   \\\n",
    "2     3\n",
    " \\\n",
    "  5\n",
    "\n",
    "\n",
    "All root-to-leaf paths are:\n",
    "\n",
    "[\"1->2->5\", \"1->3\"]"
   ]
  },
  {
   "cell_type": "code",
   "execution_count": 14,
   "metadata": {
    "collapsed": false
   },
   "outputs": [],
   "source": [
    "class TreeNode(object):\n",
    "    def __init__(self, x):\n",
    "        self.val = x\n",
    "        self.left = None\n",
    "        self.right = None\n",
    "\n",
    "def binaryTreePaths(root):\n",
    "    \"\"\"\n",
    "    :type root: TreeNode\n",
    "    :rtype: List[str]\n",
    "    \"\"\"\n",
    "    \n",
    "    if root == None:\n",
    "        return []\n",
    "    else:\n",
    "        if root.left == None and root.right == None:\n",
    "            return ['{}'.format(root.val)]\n",
    "        else:\n",
    "            return ['{}->{}'.format(root.val, x) for x in binaryTreePaths(root.left)] + ['{}->{}'.format(root.val, x) for x in binaryTreePaths(root.right)]"
   ]
  },
  {
   "cell_type": "markdown",
   "metadata": {},
   "source": [
    "##[Validate BST](https://leetcode.com/problems/validate-binary-search-tree/)\n",
    "\n",
    "Given a binary tree, determine if it is a valid binary search tree (BST).\n",
    "\n",
    "Assume a BST is defined as follows:\n",
    "\n",
    "- The left subtree of a node contains only nodes with keys less than the node's key.\n",
    "- The right subtree of a node contains only nodes with keys greater than the node's key.\n",
    "- Both the left and right subtrees must also be binary search trees.\n"
   ]
  },
  {
   "cell_type": "code",
   "execution_count": 15,
   "metadata": {
    "collapsed": true
   },
   "outputs": [],
   "source": [
    "class TreeNode(object):\n",
    "    def __init__(self, x):\n",
    "        self.val = x\n",
    "        self.left = None\n",
    "        self.right = None\n",
    "\n",
    "def isValidBST(root):\n",
    "    \"\"\"\n",
    "    :type root: TreeNode\n",
    "    :rtype: bool\n",
    "    \"\"\"\n",
    "    \n",
    "    if root == None:\n",
    "        return True\n",
    "    else:\n",
    "        options = True\n",
    "        if root.left <> None:\n",
    "            options &= root.left.val < root.val\n",
    "        if root.right <> None:\n",
    "            options &= root.right.val > root.val\n",
    "        \n",
    "        options &= (self.isValidBST(root.left) and self.isValidBST(root.right))\n",
    "                \n",
    "        if options:\n",
    "            return True\n",
    "        else:\n",
    "            return False"
   ]
  },
  {
   "cell_type": "code",
   "execution_count": null,
   "metadata": {
    "collapsed": true
   },
   "outputs": [],
   "source": []
  }
 ],
 "metadata": {
  "kernelspec": {
   "display_name": "Python 2",
   "language": "python",
   "name": "python2"
  },
  "language_info": {
   "codemirror_mode": {
    "name": "ipython",
    "version": 2
   },
   "file_extension": ".py",
   "mimetype": "text/x-python",
   "name": "python",
   "nbconvert_exporter": "python",
   "pygments_lexer": "ipython2",
   "version": "2.7.12"
  }
 },
 "nbformat": 4,
 "nbformat_minor": 0
}
