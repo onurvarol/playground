{
 "cells": [
  {
   "cell_type": "markdown",
   "metadata": {},
   "source": [
    "### Given a list_of_ints, find the highest_product you can get from three of the integers.\n",
    "The input list_of_ints will always have at least three integers."
   ]
  },
  {
   "cell_type": "code",
   "execution_count": 36,
   "metadata": {
    "collapsed": false
   },
   "outputs": [
    {
     "name": "stdout",
     "output_type": "stream",
     "text": [
      "[1, 1, 2, 3, 4] [9, 7, 5, 4, 3]\n",
      "[1, 1, 1, 2, 6, 24] [1, 9, 63, 315, 1260, 3780]\n",
      "3780\n",
      "[-9, 1, 1, 2, 3] [7, 5, 4, 3, 2]\n",
      "[1, -9, -9, -9, -18, -54] [1, 7, 35, 140, 420, 840]\n",
      "840\n",
      "[-9, -8, 1, 2, 3] [7, 5, 4, 3, 2]\n",
      "[1, -9, 72, 72, 144, 432] [1, 7, 35, 140, 420, 840]\n",
      "10080\n"
     ]
    }
   ],
   "source": [
    "def find_minmax(arr):\n",
    "    minX, maxX = 0, 0\n",
    "    for i,x in enumerate(arr):\n",
    "        if x < arr[minX]:\n",
    "            minX = i\n",
    "        if x > arr[maxX]:\n",
    "            maxX = i\n",
    "    return (minX, maxX)\n",
    "\n",
    "def highest_product_N(arr, pN=3):\n",
    "    maxNums, minNums = arr[:pN], arr[:pN]\n",
    "    \n",
    "    for x in arr[pN:]:\n",
    "        minx = find_minmax(maxNums)[0]\n",
    "        maxx = find_minmax(minNums)[1]\n",
    "        \n",
    "        if x > maxNums[minx]:\n",
    "            maxNums[minx] = x\n",
    "        if x < minNums[maxx]:\n",
    "            minNums[maxx] = x\n",
    "    minNums.sort()\n",
    "    maxNums.sort(reverse=True)\n",
    "    print minNums, maxNums\n",
    "    #minmaxSorted = sorted(maxNums + minNums)\n",
    "    #print minmaxSorted\n",
    "    \n",
    "    minC, maxC = [1], [1]\n",
    "    for i in range(0,pN):\n",
    "        minC.append(minC[-1]*minNums[i])\n",
    "        maxC.append(maxC[-1]*maxNums[i])\n",
    "    print minC, maxC\n",
    "        \n",
    "    maxMult = list()\n",
    "    for i in range(pN+1):\n",
    "        maxMult.append(minC[i] * maxC[pN-i])\n",
    "    return max(maxMult)\n",
    "        \n",
    "    \n",
    "x = [1,5,4,2,7,3,9,1]\n",
    "print highest_product_N(x,5)\n",
    "\n",
    "x = [1,5,4,2,7,3,-9,1]\n",
    "print highest_product_N(x,5)\n",
    "\n",
    "x = [1,5,4,2,7,3,-9,-8]\n",
    "print highest_product_N(x,5)"
   ]
  },
  {
   "cell_type": "markdown",
   "metadata": {},
   "source": [
    "## Your company built an in-house calendar tool called HiCal. You want to add a feature to see the times in a day when everyone is available.\n",
    "To do this, you’ll need to know when any team is having a meeting. In HiCal, a meeting is stored as tuples ↴ of integers (start_time, end_time) . These integers represent the number of 30-minute blocks past 9:00am."
   ]
  },
  {
   "cell_type": "code",
   "execution_count": null,
   "metadata": {
    "collapsed": true
   },
   "outputs": [],
   "source": [
    "def merge_times(meetings):\n",
    "    pass\n",
    "\n",
    "m = [(0, 1), (3, 5), (4, 8), (10, 12), (9, 10)]\n",
    "merge_times(m) # [(0, 1), (3, 8), (9, 12)]"
   ]
  }
 ],
 "metadata": {
  "kernelspec": {
   "display_name": "Python 2",
   "language": "python",
   "name": "python2"
  },
  "language_info": {
   "codemirror_mode": {
    "name": "ipython",
    "version": 2
   },
   "file_extension": ".py",
   "mimetype": "text/x-python",
   "name": "python",
   "nbconvert_exporter": "python",
   "pygments_lexer": "ipython2",
   "version": "2.7.12"
  }
 },
 "nbformat": 4,
 "nbformat_minor": 0
}
