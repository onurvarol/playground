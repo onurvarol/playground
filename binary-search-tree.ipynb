{
 "cells": [
  {
   "cell_type": "code",
   "execution_count": 54,
   "metadata": {
    "collapsed": false
   },
   "outputs": [],
   "source": [
    "class Node(object):\n",
    "        \n",
    "    def __init__(self, key):\n",
    "        self.value = key\n",
    "        self.rightNode = None\n",
    "        self.leftNode = None\n",
    "                \n",
    "    def __str__(self):\n",
    "        return '[{}<-{}->{}]'.format(self.leftNode, self.value, self.rightNode).replace('None','.')\n",
    "            \n",
    "class BST(object):\n",
    "    def __init__(self):\n",
    "        self.root = None\n",
    "        self.size = 0\n",
    "        \n",
    "    def add(self, key):\n",
    "        if self.root == None:\n",
    "            self.root = Node(key)\n",
    "        else:\n",
    "            self._add(key, self.root)\n",
    "        self.size += 1\n",
    "        \n",
    "    def _add(self, key, cNode):\n",
    "        if key > cNode.value:\n",
    "            if cNode.rightNode == None:\n",
    "                cNode.rightNode = Node(key)\n",
    "            else:\n",
    "                self._add(key, cNode.rightNode)\n",
    "        else:\n",
    "            if cNode.leftNode == None:\n",
    "                cNode.leftNode = Node(key)\n",
    "            else:\n",
    "                self._add(key, cNode.leftNode)\n",
    "    \n",
    "    def search(self, key):\n",
    "        node = self.root\n",
    "        while node <> None:\n",
    "            if key == node.value:\n",
    "                return node\n",
    "            \n",
    "            if key > node.value:\n",
    "                node = node.rightNode\n",
    "            else:\n",
    "                node = node.leftNode\n",
    "        return None\n",
    "    \n",
    "    def delete(self, key):\n",
    "        self.size -= 1\n",
    "    \n",
    "    def traverse(self, cNode=-1):\n",
    "        if cNode == -1:\n",
    "            cNode = self.root\n",
    "\n",
    "        if cNode <> None:\n",
    "            self.traverse(cNode.leftNode)\n",
    "            print cNode.value\n",
    "            self.traverse(cNode.rightNode)\n",
    "    \n",
    "    \n",
    "def isBST(xtree):\n",
    "    pass"
   ]
  },
  {
   "cell_type": "code",
   "execution_count": 56,
   "metadata": {
    "collapsed": false
   },
   "outputs": [
    {
     "name": "stdout",
     "output_type": "stream",
     "text": [
      "[[.<-1->.]<-2->[[.<-3->.]<-4->.]]\n",
      "1\n",
      "2\n",
      "3\n",
      "4\n"
     ]
    }
   ],
   "source": [
    "bst = BST()\n",
    "bst.add(2)\n",
    "bst.add(4)\n",
    "bst.add(1)\n",
    "bst.add(3)\n",
    "\n",
    "print bst.search(2)\n",
    "bst.traverse()\n",
    "\n",
    "#print bst.root.value\n",
    "#print bst.root.rightNode.value\n",
    "#print bst.root.rightNode.leftNode.value"
   ]
  },
  {
   "cell_type": "code",
   "execution_count": null,
   "metadata": {
    "collapsed": true
   },
   "outputs": [],
   "source": []
  }
 ],
 "metadata": {
  "kernelspec": {
   "display_name": "Python 2",
   "language": "python",
   "name": "python2"
  },
  "language_info": {
   "codemirror_mode": {
    "name": "ipython",
    "version": 2
   },
   "file_extension": ".py",
   "mimetype": "text/x-python",
   "name": "python",
   "nbconvert_exporter": "python",
   "pygments_lexer": "ipython2",
   "version": "2.7.12"
  }
 },
 "nbformat": 4,
 "nbformat_minor": 0
}
