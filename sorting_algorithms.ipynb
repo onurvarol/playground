{
 "cells": [
  {
   "cell_type": "code",
   "execution_count": 25,
   "metadata": {
    "collapsed": true
   },
   "outputs": [],
   "source": [
    "import random"
   ]
  },
  {
   "cell_type": "code",
   "execution_count": 24,
   "metadata": {
    "collapsed": false
   },
   "outputs": [
    {
     "name": "stdout",
     "output_type": "stream",
     "text": [
      "[1, 2, 3, 4, 5, 5, 7, 8, 9]\n"
     ]
    }
   ],
   "source": [
    "def quicksort(x, lo, hi):\n",
    "    \n",
    "    def partition(x, lo, hi):\n",
    "        p = x[hi]\n",
    "        i = lo\n",
    "        for j in range(lo, hi):\n",
    "            if p >= x[j]:\n",
    "                t = x[i]\n",
    "                x[i] = x[j]\n",
    "                x[j] = t\n",
    "                i += 1\n",
    "        t = x[i]\n",
    "        x[i] = x[hi]\n",
    "        x[hi] = t\n",
    "        return i\n",
    "    \n",
    "    if lo < hi:\n",
    "        p = partition(x, lo, hi)\n",
    "        quicksort(x, lo, p-1)\n",
    "        quicksort(x, p+1, hi)\n",
    "    \n",
    "arr = [3,7,5,4,2,8,1,9,5]\n",
    "\n",
    "quicksort(arr, 0, len(arr)-1)\n",
    "print arr"
   ]
  },
  {
   "cell_type": "code",
   "execution_count": 6,
   "metadata": {
    "collapsed": false
   },
   "outputs": [
    {
     "name": "stdout",
     "output_type": "stream",
     "text": [
      "[1, 2, 3, 4, 5, 5, 7, 8, 9]\n"
     ]
    }
   ],
   "source": [
    "def mergesort(arr):\n",
    "    \n",
    "    def merge(lArr, rArr):\n",
    "        mArr = list()\n",
    "        while len(lArr) > 0 and len(rArr) > 0:\n",
    "            if lArr[0] <= rArr[0]:\n",
    "                mArr.append(lArr[0])\n",
    "                del lArr[0]\n",
    "            else:\n",
    "                mArr.append(rArr[0])\n",
    "                del rArr[0]\n",
    "        \n",
    "        if len(lArr) <> 0:\n",
    "            mArr.extend(lArr)\n",
    "        if len(rArr) <> 0:\n",
    "            mArr.extend(rArr)\n",
    "        return mArr\n",
    "        \n",
    "    \n",
    "    if len(arr) <= 1:\n",
    "        return arr\n",
    "    \n",
    "    left = list()\n",
    "    right = list()\n",
    "    \n",
    "    for i in range(len(arr)):\n",
    "        if i <= int(len(arr)/2.)-1:\n",
    "            left.append(arr[i])\n",
    "        else:\n",
    "            right.append(arr[i])\n",
    "    #print left, right\n",
    "    \n",
    "    left = mergesort(left)\n",
    "    right = mergesort(right)\n",
    "    \n",
    "    return merge(left, right)\n",
    "\n",
    "arr = [3,7,5,4,2,8,1,9,5]\n",
    "print mergesort(arr)"
   ]
  },
  {
   "cell_type": "code",
   "execution_count": null,
   "metadata": {
    "collapsed": true
   },
   "outputs": [],
   "source": []
  }
 ],
 "metadata": {
  "kernelspec": {
   "display_name": "Python 2",
   "language": "python",
   "name": "python2"
  },
  "language_info": {
   "codemirror_mode": {
    "name": "ipython",
    "version": 2
   },
   "file_extension": ".py",
   "mimetype": "text/x-python",
   "name": "python",
   "nbconvert_exporter": "python",
   "pygments_lexer": "ipython2",
   "version": "2.7.12"
  }
 },
 "nbformat": 4,
 "nbformat_minor": 0
}
