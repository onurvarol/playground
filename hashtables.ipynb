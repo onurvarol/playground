{
 "cells": [
  {
   "cell_type": "code",
   "execution_count": 37,
   "metadata": {
    "collapsed": true
   },
   "outputs": [],
   "source": [
    "class MyHashTable(object):\n",
    "    \n",
    "    def __init__(self, size=32):\n",
    "        self.size = size\n",
    "        self.buckets = [[] for i in range(self.size)]\n",
    "        self.count = 0\n",
    "        \n",
    "    def add(self, key, value):\n",
    "        h = hash(key)\n",
    "        if len(self.buckets[h % self.size]) > 0:\n",
    "            print '[INFO] Key collusion {}/{}'.format(h % self.size, self.size)\n",
    "            for i, (k,v) in enumerate(self.buckets[h % self.size]):\n",
    "                if k == key:\n",
    "                    self.buckets[h % self.size][i] = (key, value)\n",
    "        self.buckets[h % self.size].append((key,value))\n",
    "        self.count += 1\n",
    "        self.loadfactor = self.count / float(self.size)\n",
    "        \n",
    "    def get(self, key):\n",
    "        h = hash(key)\n",
    "        bucket = self.buckets[h % self.size]\n",
    "        if len(bucket) > 0:\n",
    "            for k,v in bucket:\n",
    "                if k == key:\n",
    "                    return v\n",
    "        print \"[INFO] Key {} doesn't exist\".format(key)\n",
    "        return None"
   ]
  },
  {
   "cell_type": "code",
   "execution_count": 38,
   "metadata": {
    "collapsed": false
   },
   "outputs": [
    {
     "name": "stdout",
     "output_type": "stream",
     "text": [
      "[INFO] Key collusion 7/32\n",
      "[INFO] Key collusion 7/32\n",
      "32 bucket, 5 item, LF:0.15625\n",
      "(ali, 6)\n",
      "(ali2, 3)\n",
      "[INFO] Key hasan doesn't exist\n",
      "(hasan, None)\n"
     ]
    }
   ],
   "source": [
    "mht = MyHashTable()\n",
    "mht.add('onur', 5)\n",
    "mht.add('osman', 7)\n",
    "mht.add('ali', 9)\n",
    "mht.add('ali', 6)\n",
    "mht.add('ali2', 3)\n",
    "\n",
    "print '{} bucket, {} item, LF:{}'.format(mht.size, mht.count, mht.loadfactor)\n",
    "\n",
    "for k in ['ali', 'ali2','hasan']:\n",
    "    print '({}, {})'.format(k, mht.get(k))"
   ]
  },
  {
   "cell_type": "code",
   "execution_count": null,
   "metadata": {
    "collapsed": true
   },
   "outputs": [],
   "source": []
  }
 ],
 "metadata": {
  "kernelspec": {
   "display_name": "Python 2",
   "language": "python",
   "name": "python2"
  },
  "language_info": {
   "codemirror_mode": {
    "name": "ipython",
    "version": 2
   },
   "file_extension": ".py",
   "mimetype": "text/x-python",
   "name": "python",
   "nbconvert_exporter": "python",
   "pygments_lexer": "ipython2",
   "version": "2.7.12"
  }
 },
 "nbformat": 4,
 "nbformat_minor": 0
}
